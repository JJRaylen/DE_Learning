{
 "cells": [
  {
   "attachments": {
    "images.jfif": {
     "image/jpeg": "[encoded data removed]"
    }
   },
   "cell_type": "markdown",
   "id": "fd4682db",
   "metadata": {},
   "source": [
    "# Project Scenario\n",
    "A multi-national firm has hired you as a data engineer. Your job is to access and process data as per requirements.![images.jfif](attachment:images.jfif)\n",
    "\n",
    "- Your boss asked you to compile the list of the **top 10 largest banks** in the world ranked **by market capitalization** in **billion USD**.\n",
    "- Further, you need to **transform** the data and store it in **USD, GBP, EUR, and INR** per the exchange rate information made available to you as a CSV file. \n",
    "- You should save the processed information table locally in a CSV format and as a database table. Managers from different countries will query the database table to extract the list and note the market capitalization value in their own currency.\n",
    "\n",
    "Linkdata: \thttps://web.archive.org/web/20230908091635 /https://en.wikipedia.org/wiki/List_of_largest_banks"
   ]
  },
  {
   "cell_type": "markdown",
   "id": "49aff74b",
   "metadata": {},
   "source": [
    "# Directions\n",
    "    1.Write a function to extract the tabular information from the given URL under the heading By Market Capitalization, and save it to a data frame.\n",
    "    2. Write a function to transform the data frame by adding columns for Market Capitalization in GBP, EUR, and INR, rounded to 2 decimal places, based on the exchange rate information shared as a CSV file.\n",
    "    3. Write a function to load the transformed data frame to an output CSV file.\n",
    "    4. Write a function to load the transformed data frame to an SQL database server as a table.\n",
    "    5. Write a function to run queries on the database table.\n",
    "    6. Run the following queries on the database table:\n",
    "            a. Extract the information for the London office, that is Name and MC_GBP_Billion\n",
    "            b. Extract the information for the Berlin office, that is Name and MC_EUR_Billion\n",
    "            c. Extract the information for New Delhi office, that is Name and MC_INR_Billion\n",
    "    7. Write a function to log the progress of the code.\n",
    "    8. While executing the data initialization commands and function calls, maintain appropriate log entries.\n"
   ]
  },
  {
   "cell_type": "markdown",
   "id": "14e8f4ed",
   "metadata": {},
   "source": [
    "## Initial setup\n",
    "Before you start building the code, you need to install the required libraries for it.\n",
    "The libraries needed for the code are as follows:\n",
    "1. **requests** - The library used for accessing the information from the URL.\n",
    "2. **bs4** - The library containing the BeautifulSoup function used for webscraping.\n",
    "3. **pandas** - The library used for processing the extracted data, storing it to required formats and communicating with the databases\n",
    "4. **sqlite3** - The library required to create a database server connection.    \n",
    "5. **numpy** - The library required for the mathematical rounding operation as required in the objectives.\n",
    "6. **datetime** - The library containing the function datetime used for extracting the timestamp for logging purposes."
   ]
  },
  {
   "cell_type": "code",
   "execution_count": 1,
   "id": "d72a3421",
   "metadata": {},
   "outputs": [
    {
     "name": "stdout",
     "output_type": "stream",
     "text": [
      "completed import libs\n"
     ]
    }
   ],
   "source": [
    "from bs4 import BeautifulSoup\n",
    "import requests\n",
    "import pandas as pd\n",
    "import numpy as np\n",
    "import sqlite3\n",
    "from datetime import datetime \n",
    "print('completed import libs')"
   ]
  },
  {
   "cell_type": "code",
   "execution_count": 2,
   "id": "566b03a1",
   "metadata": {},
   "outputs": [],
   "source": [
    "##Variance\n",
    "url = 'https://web.archive.org/web/20230908091635 /https://en.wikipedia.org/wiki/List_of_largest_banks'\n",
    "table_attribs = [\"Bank_name\", \"MC_USD_Billion\"]"
   ]
  },
  {
   "cell_type": "markdown",
   "id": "97ba3e94",
   "metadata": {},
   "source": [
    "### Task1 Wragling data\n",
    "- 1.Write a function to extract the tabular information from the given URL under the heading By Market Capitalization, and save it to a data frame"
   ]
  },
  {
   "cell_type": "code",
   "execution_count": 3,
   "id": "e77a96bd",
   "metadata": {},
   "outputs": [],
   "source": [
    "def extract(url,table_attribs):\n",
    "    page = requests.get(url).text\n",
    "    data = BeautifulSoup(page,'html.parser')\n",
    "    tables = data.find_all('tbody')\n",
    "    df = pd.DataFrame(columns=table_attribs)\n",
    "\n",
    "    rows = tables[0].find_all('tr')\n",
    "    for row in rows:\n",
    "        col = row.find_all('td')\n",
    "        if len(col)>=3:\n",
    "            if col[1] is not None:\n",
    "                data_dict = {\"Bank_name\": col[1].get_text(strip=True),\n",
    "                                 \"MC_USD_Billion\": col[2].get_text(strip=True)}\n",
    "                \n",
    "                df1 = pd.DataFrame(data_dict, index=[0])\n",
    "                df = pd.concat([df,df1], ignore_index=True)\n",
    "    return(df)"
   ]
  },
  {
   "cell_type": "code",
   "execution_count": 34,
   "id": "2c03ead4",
   "metadata": {},
   "outputs": [
    {
     "data": {
      "text/html": [
       "<div>\n",
       "<style scoped>\n",
       "    .dataframe tbody tr th:only-of-type {\n",
       "        vertical-align: middle;\n",
       "    }\n",
       "\n",
       "    .dataframe tbody tr th {\n",
       "        vertical-align: top;\n",
       "    }\n",
       "\n",
       "    .dataframe thead th {\n",
       "        text-align: right;\n",
       "    }\n",
       "</style>\n",
       "<table border=\"1\" class=\"dataframe\">\n",
       "  <thead>\n",
       "    <tr style=\"text-align: right;\">\n",
       "      <th></th>\n",
       "      <th>Bank_name</th>\n",
       "      <th>MC_USD_Billion</th>\n",
       "    </tr>\n",
       "  </thead>\n",
       "  <tbody>\n",
       "    <tr>\n",
       "      <th>0</th>\n",
       "      <td>JPMorgan Chase</td>\n",
       "      <td>432.92</td>\n",
       "    </tr>\n",
       "    <tr>\n",
       "      <th>1</th>\n",
       "      <td>Bank of America</td>\n",
       "      <td>231.52</td>\n",
       "    </tr>\n",
       "    <tr>\n",
       "      <th>2</th>\n",
       "      <td>Industrial and Commercial Bank of China</td>\n",
       "      <td>194.56</td>\n",
       "    </tr>\n",
       "    <tr>\n",
       "      <th>3</th>\n",
       "      <td>Agricultural Bank of China</td>\n",
       "      <td>160.68</td>\n",
       "    </tr>\n",
       "    <tr>\n",
       "      <th>4</th>\n",
       "      <td>HDFC Bank</td>\n",
       "      <td>157.91</td>\n",
       "    </tr>\n",
       "    <tr>\n",
       "      <th>5</th>\n",
       "      <td>Wells Fargo</td>\n",
       "      <td>155.87</td>\n",
       "    </tr>\n",
       "    <tr>\n",
       "      <th>6</th>\n",
       "      <td>HSBC Holdings PLC</td>\n",
       "      <td>148.90</td>\n",
       "    </tr>\n",
       "    <tr>\n",
       "      <th>7</th>\n",
       "      <td>Morgan Stanley</td>\n",
       "      <td>140.83</td>\n",
       "    </tr>\n",
       "    <tr>\n",
       "      <th>8</th>\n",
       "      <td>China Construction Bank</td>\n",
       "      <td>139.82</td>\n",
       "    </tr>\n",
       "    <tr>\n",
       "      <th>9</th>\n",
       "      <td>Bank of China</td>\n",
       "      <td>136.81</td>\n",
       "    </tr>\n",
       "  </tbody>\n",
       "</table>\n",
       "</div>"
      ],
      "text/plain": [
       "                                 Bank_name MC_USD_Billion\n",
       "0                           JPMorgan Chase         432.92\n",
       "1                          Bank of America         231.52\n",
       "2  Industrial and Commercial Bank of China         194.56\n",
       "3               Agricultural Bank of China         160.68\n",
       "4                                HDFC Bank         157.91\n",
       "5                              Wells Fargo         155.87\n",
       "6                        HSBC Holdings PLC         148.90\n",
       "7                           Morgan Stanley         140.83\n",
       "8                  China Construction Bank         139.82\n",
       "9                            Bank of China         136.81"
      ]
     },
     "execution_count": 34,
     "metadata": {},
     "output_type": "execute_result"
    }
   ],
   "source": [
    "extract(url,table_attribs)"
   ]
  },
  {
   "cell_type": "markdown",
   "id": "40c1d7f6",
   "metadata": {},
   "source": [
    "### Task 2: Transform data\n",
    "- 2. Write a function to transform the data frame by adding columns for Market Capitalization in GBP, EUR, and INR, rounded to 2 decimal places, based on the exchange rate information shared as a CSV file."
   ]
  },
  {
   "cell_type": "code",
   "execution_count": 4,
   "id": "648e1395",
   "metadata": {
    "scrolled": false
   },
   "outputs": [
    {
     "name": "stdout",
     "output_type": "stream",
     "text": [
      "{'GBP': 2.1, 'EUR': 3.184, 'INR': 9.123}\n"
     ]
    }
   ],
   "source": [
    "#Created Rate Conver USD vs GBP|EUR|INR\n",
    "exchange_rate = {\n",
    "    \"GBP\": float(2.1),\n",
    "    \"EUR\": float(3.184),\n",
    "    \"INR\": float(9.123)\n",
    "# Suppose I want to input for fun\n",
    "#     \"GBP\": float(input(\"Input Rate USD/GBP: \")),\n",
    "#     \"EUR\": float(input(\"Input Rate USD/EUR: \")),\n",
    "#     \"INR\": float(input(\"Input Rate USD/INR: \"))\n",
    "}\n",
    "print(exchange_rate)"
   ]
  },
  {
   "cell_type": "code",
   "execution_count": 5,
   "id": "0e0e39c2",
   "metadata": {
    "scrolled": true
   },
   "outputs": [],
   "source": [
    "df = extract(url,table_attribs)"
   ]
  },
  {
   "cell_type": "code",
   "execution_count": 7,
   "id": "9f5abebe",
   "metadata": {},
   "outputs": [
    {
     "name": "stdout",
     "output_type": "stream",
     "text": [
      "Các cột hiện có trong DataFrame: Index(['Bank_name', 'MC_USD_Billion'], dtype='object')\n"
     ]
    }
   ],
   "source": [
    "print(\"Các cột hiện có trong DataFrame:\", df.columns)"
   ]
  },
  {
   "cell_type": "code",
   "execution_count": 8,
   "id": "f7f5f486",
   "metadata": {},
   "outputs": [],
   "source": [
    "def transform(df):\n",
    "    MC_USD_Billion = df[\"MC_USD_Billion\"].tolist()\n",
    "    MC_USD_Billion = [float(\"\".join(x.split('.'))) for x in MC_USD_Billion]\n",
    "    MC_USD_Billion = [np.round(x/100,2) for x in MC_USD_Billion]\n",
    "    df[\"MC_USD_Billion\"] = MC_USD_Billion\n",
    "    return df"
   ]
  },
  {
   "cell_type": "code",
   "execution_count": 9,
   "id": "39d7916d",
   "metadata": {},
   "outputs": [],
   "source": [
    "def convert_rate():\n",
    "    df[\"MC_GBP_Billion\"] = np.round(df[\"MC_USD_Billion\"] * exchange_rate[\"GBP\"], 2)\n",
    "    df[\"MC_EUR_Billion\"] = np.round(df[\"MC_USD_Billion\"] * exchange_rate[\"EUR\"], 2)\n",
    "    df[\"MC_INR_Billion\"] = np.round(df[\"MC_USD_Billion\"] * exchange_rate[\"INR\"], 2)"
   ]
  },
  {
   "cell_type": "code",
   "execution_count": 10,
   "id": "de2c00fd",
   "metadata": {},
   "outputs": [
    {
     "data": {
      "text/html": [
       "<div>\n",
       "<style scoped>\n",
       "    .dataframe tbody tr th:only-of-type {\n",
       "        vertical-align: middle;\n",
       "    }\n",
       "\n",
       "    .dataframe tbody tr th {\n",
       "        vertical-align: top;\n",
       "    }\n",
       "\n",
       "    .dataframe thead th {\n",
       "        text-align: right;\n",
       "    }\n",
       "</style>\n",
       "<table border=\"1\" class=\"dataframe\">\n",
       "  <thead>\n",
       "    <tr style=\"text-align: right;\">\n",
       "      <th></th>\n",
       "      <th>Bank_name</th>\n",
       "      <th>MC_USD_Billion</th>\n",
       "    </tr>\n",
       "  </thead>\n",
       "  <tbody>\n",
       "    <tr>\n",
       "      <th>0</th>\n",
       "      <td>JPMorgan Chase</td>\n",
       "      <td>432.92</td>\n",
       "    </tr>\n",
       "    <tr>\n",
       "      <th>1</th>\n",
       "      <td>Bank of America</td>\n",
       "      <td>231.52</td>\n",
       "    </tr>\n",
       "    <tr>\n",
       "      <th>2</th>\n",
       "      <td>Industrial and Commercial Bank of China</td>\n",
       "      <td>194.56</td>\n",
       "    </tr>\n",
       "    <tr>\n",
       "      <th>3</th>\n",
       "      <td>Agricultural Bank of China</td>\n",
       "      <td>160.68</td>\n",
       "    </tr>\n",
       "    <tr>\n",
       "      <th>4</th>\n",
       "      <td>HDFC Bank</td>\n",
       "      <td>157.91</td>\n",
       "    </tr>\n",
       "    <tr>\n",
       "      <th>5</th>\n",
       "      <td>Wells Fargo</td>\n",
       "      <td>155.87</td>\n",
       "    </tr>\n",
       "    <tr>\n",
       "      <th>6</th>\n",
       "      <td>HSBC Holdings PLC</td>\n",
       "      <td>148.90</td>\n",
       "    </tr>\n",
       "    <tr>\n",
       "      <th>7</th>\n",
       "      <td>Morgan Stanley</td>\n",
       "      <td>140.83</td>\n",
       "    </tr>\n",
       "    <tr>\n",
       "      <th>8</th>\n",
       "      <td>China Construction Bank</td>\n",
       "      <td>139.82</td>\n",
       "    </tr>\n",
       "    <tr>\n",
       "      <th>9</th>\n",
       "      <td>Bank of China</td>\n",
       "      <td>136.81</td>\n",
       "    </tr>\n",
       "  </tbody>\n",
       "</table>\n",
       "</div>"
      ],
      "text/plain": [
       "                                 Bank_name  MC_USD_Billion\n",
       "0                           JPMorgan Chase          432.92\n",
       "1                          Bank of America          231.52\n",
       "2  Industrial and Commercial Bank of China          194.56\n",
       "3               Agricultural Bank of China          160.68\n",
       "4                                HDFC Bank          157.91\n",
       "5                              Wells Fargo          155.87\n",
       "6                        HSBC Holdings PLC          148.90\n",
       "7                           Morgan Stanley          140.83\n",
       "8                  China Construction Bank          139.82\n",
       "9                            Bank of China          136.81"
      ]
     },
     "execution_count": 10,
     "metadata": {},
     "output_type": "execute_result"
    }
   ],
   "source": [
    "transform(df)"
   ]
  },
  {
   "cell_type": "code",
   "execution_count": 11,
   "id": "842506bd",
   "metadata": {},
   "outputs": [],
   "source": [
    "convert_rate()"
   ]
  },
  {
   "cell_type": "code",
   "execution_count": 12,
   "id": "f41b871e",
   "metadata": {},
   "outputs": [
    {
     "name": "stdout",
     "output_type": "stream",
     "text": [
      "                                 Bank_name  MC_USD_Billion  MC_GBP_Billion  \\\n",
      "0                           JPMorgan Chase          432.92          909.13   \n",
      "1                          Bank of America          231.52          486.19   \n",
      "2  Industrial and Commercial Bank of China          194.56          408.58   \n",
      "3               Agricultural Bank of China          160.68          337.43   \n",
      "4                                HDFC Bank          157.91          331.61   \n",
      "5                              Wells Fargo          155.87          327.33   \n",
      "6                        HSBC Holdings PLC          148.90          312.69   \n",
      "7                           Morgan Stanley          140.83          295.74   \n",
      "8                  China Construction Bank          139.82          293.62   \n",
      "9                            Bank of China          136.81          287.30   \n",
      "\n",
      "   MC_EUR_Billion  MC_INR_Billion  \n",
      "0         1378.42         3949.53  \n",
      "1          737.16         2112.16  \n",
      "2          619.48         1774.97  \n",
      "3          511.61         1465.88  \n",
      "4          502.79         1440.61  \n",
      "5          496.29         1422.00  \n",
      "6          474.10         1358.41  \n",
      "7          448.40         1284.79  \n",
      "8          445.19         1275.58  \n",
      "9          435.60         1248.12  \n"
     ]
    }
   ],
   "source": [
    "print(df)"
   ]
  },
  {
   "cell_type": "markdown",
   "id": "b1d8e0d2",
   "metadata": {},
   "source": [
    "### Task 3: Convert csv\n",
    "- Write a function to load the transformed data frame to an output CSV file."
   ]
  },
  {
   "cell_type": "code",
   "execution_count": 13,
   "id": "d7c5f923",
   "metadata": {},
   "outputs": [],
   "source": [
    "csv_path = './Ranking_Bank_by_cap.csv'"
   ]
  },
  {
   "cell_type": "code",
   "execution_count": 14,
   "id": "3985b198",
   "metadata": {},
   "outputs": [],
   "source": [
    "def load_to_csv(df, csv_path):\n",
    "    df.to_csv(csv_path)"
   ]
  },
  {
   "cell_type": "markdown",
   "id": "f707b701",
   "metadata": {},
   "source": [
    "### Task 4 Load to SQL\n",
    "- 4. Write a function to load the transformed data frame to an SQL database server as a table."
   ]
  },
  {
   "cell_type": "code",
   "execution_count": 15,
   "id": "e805e325",
   "metadata": {},
   "outputs": [],
   "source": [
    "db_name = 'World_Bank.db'\n",
    "table_name = 'Bank_by_Cap'"
   ]
  },
  {
   "cell_type": "code",
   "execution_count": 16,
   "id": "84c5f16a",
   "metadata": {},
   "outputs": [],
   "source": [
    "def load_to_db(df, sql_connection, table_name):\n",
    "    df.to_sql(table_name, sql_connection, if_exists='replace', index=False)"
   ]
  },
  {
   "cell_type": "markdown",
   "id": "0518e77b",
   "metadata": {},
   "source": [
    "### Task 5: Run Queries: \n",
    "- 5.Write a function to run queries on the database table."
   ]
  },
  {
   "cell_type": "code",
   "execution_count": 17,
   "id": "cce1b78b",
   "metadata": {},
   "outputs": [],
   "source": [
    "def run_query(query_statement, sql_connection):\n",
    "    print(query_statement)\n",
    "    query_output = pd.read_sql(query_statement, sql_connection)\n",
    "    print(query_output)"
   ]
  },
  {
   "cell_type": "markdown",
   "id": "79e2f61c",
   "metadata": {},
   "source": [
    "### Task 6: Run Many Queries: \n",
    "6. Run the following queries on the database table:\n",
    "        a. Extract the information for the London office, that is Name and MC_GBP_Billion\n",
    "        b. Extract the information for the Berlin office, that is Name and MC_EUR_Billion\n",
    "        c. Extract the information for New Delhi office, that is Name and MC_INR_Billion"
   ]
  },
  {
   "cell_type": "code",
   "execution_count": 18,
   "id": "9277644d",
   "metadata": {},
   "outputs": [],
   "source": [
    "query_statement_6a = f\"SELECT Bank_name,MC_GBP_Billion from {table_name}\"\n",
    "query_statement_6b = f\"SELECT Bank_name,MC_EUR_Billion from {table_name}\"\n",
    "query_statement_6c = f\"SELECT Bank_name,MC_INR_Billion from {table_name}\""
   ]
  },
  {
   "cell_type": "markdown",
   "id": "a25dc752",
   "metadata": {},
   "source": [
    "### Task 7: Loggin Progress\n",
    "- Write a function to log the progress of the code."
   ]
  },
  {
   "cell_type": "code",
   "execution_count": 26,
   "id": "9bab5928",
   "metadata": {},
   "outputs": [],
   "source": [
    "def log_progress(message): \n",
    "    timestamp_format = '%Y-%h-%d-%H:%M:%S' # Year-Monthname-Day-Hour-Minute-Second \n",
    "    now = datetime.now() # get current timestamp \n",
    "    timestamp = now.strftime(timestamp_format) \n",
    "    with open(\"./etl_project_ranking_bank_log.txt\",\"a\") as f: \n",
    "        f.write(timestamp + ' : ' + message + '\\n')"
   ]
  },
  {
   "cell_type": "markdown",
   "id": "6fc27bff",
   "metadata": {},
   "source": [
    "### TASK 8: FINAL - EXECUTIVE\n",
    "-  While executing the data initialization commands and function calls, maintain appropriate log entries."
   ]
  },
  {
   "cell_type": "code",
   "execution_count": 20,
   "id": "182403fa",
   "metadata": {},
   "outputs": [],
   "source": [
    "url = 'https://web.archive.org/web/20230908091635 /https://en.wikipedia.org/wiki/List_of_largest_banks'\n",
    "table_attribs = [\"Bank_name\", \"MC_USD_Billion\"]\n",
    "\n",
    "db_name = 'World_Bank.db'\n",
    "table_name = 'Bank_by_Cap'\n",
    "csv_path = './Ranking_Bank_by_cap.csv'\n",
    "\n",
    "query_statement_6a = f\"SELECT Bank_name,MC_GBP_Billion from {table_name}\"\n",
    "query_statement_6b = f\"SELECT Bank_name,MC_EUR_Billion from {table_name}\"\n",
    "query_statement_6c = f\"SELECT Bank_name,MC_INR_Billion from {table_name}\""
   ]
  },
  {
   "cell_type": "code",
   "execution_count": 29,
   "id": "23dab190",
   "metadata": {},
   "outputs": [
    {
     "name": "stdout",
     "output_type": "stream",
     "text": [
      "SELECT * from Bank_by_Cap\n",
      "                                 Bank_name  MC_USD_Billion  MC_GBP_Billion  \\\n",
      "0                           JPMorgan Chase          432.92          909.13   \n",
      "1                          Bank of America          231.52          486.19   \n",
      "2  Industrial and Commercial Bank of China          194.56          408.58   \n",
      "3               Agricultural Bank of China          160.68          337.43   \n",
      "4                                HDFC Bank          157.91          331.61   \n",
      "5                              Wells Fargo          155.87          327.33   \n",
      "6                        HSBC Holdings PLC          148.90          312.69   \n",
      "7                           Morgan Stanley          140.83          295.74   \n",
      "8                  China Construction Bank          139.82          293.62   \n",
      "9                            Bank of China          136.81          287.30   \n",
      "\n",
      "   MC_EUR_Billion  MC_INR_Billion  \n",
      "0         1378.42         3949.53  \n",
      "1          737.16         2112.16  \n",
      "2          619.48         1774.97  \n",
      "3          511.61         1465.88  \n",
      "4          502.79         1440.61  \n",
      "5          496.29         1422.00  \n",
      "6          474.10         1358.41  \n",
      "7          448.40         1284.79  \n",
      "8          445.19         1275.58  \n",
      "9          435.60         1248.12  \n",
      "SELECT Bank_name,MC_GBP_Billion from Bank_by_Cap\n",
      "                                 Bank_name  MC_GBP_Billion\n",
      "0                           JPMorgan Chase          909.13\n",
      "1                          Bank of America          486.19\n",
      "2  Industrial and Commercial Bank of China          408.58\n",
      "3               Agricultural Bank of China          337.43\n",
      "4                                HDFC Bank          331.61\n",
      "5                              Wells Fargo          327.33\n",
      "6                        HSBC Holdings PLC          312.69\n",
      "7                           Morgan Stanley          295.74\n",
      "8                  China Construction Bank          293.62\n",
      "9                            Bank of China          287.30\n",
      "SELECT Bank_name,MC_EUR_Billion from Bank_by_Cap\n",
      "                                 Bank_name  MC_EUR_Billion\n",
      "0                           JPMorgan Chase         1378.42\n",
      "1                          Bank of America          737.16\n",
      "2  Industrial and Commercial Bank of China          619.48\n",
      "3               Agricultural Bank of China          511.61\n",
      "4                                HDFC Bank          502.79\n",
      "5                              Wells Fargo          496.29\n",
      "6                        HSBC Holdings PLC          474.10\n",
      "7                           Morgan Stanley          448.40\n",
      "8                  China Construction Bank          445.19\n",
      "9                            Bank of China          435.60\n",
      "SELECT Bank_name,MC_INR_Billion from Bank_by_Cap\n",
      "                                 Bank_name  MC_INR_Billion\n",
      "0                           JPMorgan Chase         3949.53\n",
      "1                          Bank of America         2112.16\n",
      "2  Industrial and Commercial Bank of China         1774.97\n",
      "3               Agricultural Bank of China         1465.88\n",
      "4                                HDFC Bank         1440.61\n",
      "5                              Wells Fargo         1422.00\n",
      "6                        HSBC Holdings PLC         1358.41\n",
      "7                           Morgan Stanley         1284.79\n",
      "8                  China Construction Bank         1275.58\n",
      "9                            Bank of China         1248.12\n"
     ]
    }
   ],
   "source": [
    "# Task 0: Start Process\n",
    "log_progress('----------------------------------------------------------------')\n",
    "log_progress('Preliminaries complete. Initiating ETL process')\n",
    "\n",
    "#Task1 Extract data\n",
    "df = extract(url, table_attribs)\n",
    "log_progress('Data extraction complete. Initiating Transformation process')\n",
    "\n",
    "#Task2 Transform data\n",
    "df = transform(df)\n",
    "convert_rate()\n",
    "log_progress('Data transformation complete. Initiating loading process')\n",
    "\n",
    "#Task 3: Load to csv\n",
    "load_to_csv(df, csv_path)\n",
    "log_progress('Data saved to CSV file')\n",
    "\n",
    "#Task 4: Work with SQL \n",
    "#4.1Connect to DB\n",
    "sql_connection = sqlite3.connect('World_Bank.db')\n",
    "log_progress('SQL Connection initiated.')\n",
    "\n",
    "#4.2 Load data into table\n",
    "load_to_db(df, sql_connection, table_name)\n",
    "log_progress('Data loaded to Database as table. Running the query')\n",
    "\n",
    "#4.3 Running Queries\n",
    "query_statement = f\"SELECT * from {table_name}\"\n",
    "run_query(query_statement, sql_connection)\n",
    "run_query(query_statement_6a, sql_connection)\n",
    "run_query(query_statement_6b, sql_connection)\n",
    "run_query(query_statement_6c, sql_connection)\n",
    "\n",
    "#Task4; Completed\n",
    "log_progress('Process Complete.')\n",
    "sql_connection.close()"
   ]
  },
  {
   "cell_type": "code",
   "execution_count": null,
   "id": "001634bb",
   "metadata": {},
   "outputs": [],
   "source": [
    "db_name = 'World_Bank.db'\n",
    "table_name = 'Bank_by_Cap'\n",
    "\n",
    "def load_to_csv(df, csv_path):\n",
    "    df.to_csv(csv_path)\n",
    "    \n",
    "#4.1Connect to DB\n",
    "sql_connection = sqlite3.connect('World_Bank.db')\n",
    "log_progress('SQL Connection initiated.')\n",
    "    \n",
    "def load_to_db(df, sql_connection, table_name):\n",
    "    df.to_sql(table_name, sql_connection, if_exists='replace', index=False)"
   ]
  }
 ],
 "metadata": {
  "kernelspec": {
   "display_name": "Python 3 (ipykernel)",
   "language": "python",
   "name": "python3"
  },
  "language_info": {
   "codemirror_mode": {
    "name": "ipython",
    "version": 3
   },
   "file_extension": ".py",
   "mimetype": "text/x-python",
   "name": "python",
   "nbconvert_exporter": "python",
   "pygments_lexer": "ipython3",
   "version": "3.9.13"
  }
 },
 "nbformat": 4,
 "nbformat_minor": 5
}
