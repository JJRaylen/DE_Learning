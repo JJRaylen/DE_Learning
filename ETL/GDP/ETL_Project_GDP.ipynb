{
 "cells": [
  {
   "cell_type": "markdown",
   "id": "25a5c04e",
   "metadata": {},
   "source": [
    "# Project Scenario\n",
    "\n",
    "An international firm that is looking to expand its business in different countries across the world has recruited you. You have been hired as a junior Data Engineer and are tasked with creating an automated script that can extract the list of all countries in order of their GDPs in billion USDs (rounded to 2 decimal places), as logged by the International Monetary Fund (IMF). Since IMF releases this evaluation twice a year, this code will be used by the organization to extract the information as it is updated.\n",
    "\n",
    "You can find the required data on this webpage.\n",
    "\n",
    "- The required information needs to be made accessible as a JSON file 'Countries_by_GDP.json' as well as a table 'Countries_by_GDP' in a database file 'World_Economies.db' with attributes 'Country' and 'GDP_USD_billion.'\n",
    "\n",
    "- Your boss wants you to demonstrate the success of this code by running a query on the database table to display only the entries with more than a 100 billion USD economy. Also, log the entire process of execution in a file named 'etl_project_log.txt'.\n",
    "\n",
    "- You must create a Python code 'etl_project_gdp.py' that performs all the required tasks."
   ]
  },
  {
   "cell_type": "markdown",
   "id": "2717bb85",
   "metadata": {},
   "source": [
    "## Initial setup\n",
    "Before you start building the code, you need to install the required libraries for it.\n",
    "The libraries needed for the code are as follows:\n",
    "1. **requests** - The library used for accessing the information from the URL.\n",
    "2. **bs4** - The library containing the BeautifulSoup function used for webscraping.\n",
    "3. **pandas** - The library used for processing the extracted data, storing it to required formats and communicating with the databases\n",
    "4. **sqlite3** - The library required to create a database server connection.    \n",
    "5. **numpy** - The library required for the mathematical rounding operation as required in the objectives.\n",
    "6. **datetime** - The library containing the function datetime used for extracting the timestamp for logging purposes."
   ]
  },
  {
   "cell_type": "code",
   "execution_count": 1,
   "id": "55fcbde4",
   "metadata": {},
   "outputs": [
    {
     "name": "stdout",
     "output_type": "stream",
     "text": [
      "completed import libs\n"
     ]
    }
   ],
   "source": [
    "from bs4 import BeautifulSoup\n",
    "import requests\n",
    "import pandas as pd\n",
    "import numpy as np\n",
    "import sqlite3\n",
    "from datetime import datetime \n",
    "print('completed import libs')"
   ]
  },
  {
   "cell_type": "markdown",
   "id": "20ead33c",
   "metadata": {},
   "source": [
    "Further, you need to initialize all the known entities. These are mentioned below:\n",
    "URL:\n",
    "'https://web.archive.org/web/20230902185326/https://en.wikipedia.org/wiki/List_of_countries_by_GDP_%28nominal%29'\n",
    "\n",
    "- **table_attribs**: The attributes or column names for the dataframe stored as a list. Since the data available in the website is in USD Millions, the attributes should initially be **'Country'** and **'GDP_USD_millions'**. This will be modified in the transform function later.\n",
    "- **db_name**: As mentioned in the Project scenario, 'World_Economies.db'\n",
    "- **table_name**: As mentioned in the Project scenario, 'Countries_by_GDP'"
   ]
  },
  {
   "cell_type": "code",
   "execution_count": 57,
   "id": "16eb13a2",
   "metadata": {},
   "outputs": [],
   "source": [
    "url = 'https://web.archive.org/web/20230902185326/https://en.wikipedia.org/wiki/List_of_countries_by_GDP_%28nominal%29'\n",
    "table_attribs = [\"Country\", \"GDP_USD_millions\"]\n",
    "db_name = 'World_Economies.db'\n",
    "table_name = 'Countries_by_GDP'\n",
    "csv_path = './Countries_by_GDP.csv'"
   ]
  },
  {
   "cell_type": "markdown",
   "id": "d503d48e",
   "metadata": {},
   "source": [
    "### Task1: Extracting information"
   ]
  },
  {
   "cell_type": "code",
   "execution_count": 56,
   "id": "f722aa10",
   "metadata": {},
   "outputs": [],
   "source": [
    "def extract(url, table_attribs):\n",
    "    page = requests.get(url).text\n",
    "    data = BeautifulSoup(page,'html.parser')\n",
    "    df = pd.DataFrame(columns=table_attribs)\n",
    "    tables = data.find_all('tbody')\n",
    "# Kiểm tra các thẻ 'tbody' là các thẻ chứa bảng\n",
    "    rows = tables[2].find_all('tr')\n",
    "# Thẻ 'tr' được hiểu là table rows, thẻ 'td' là table data\n",
    "    for row in rows:\n",
    "        col = row.find_all('td')\n",
    "        if len(col)!=0:\n",
    "            if col[0].find('a') is not None and '—' not in col[2]:\n",
    "                data_dict = {\"Country\": col[0].a.contents[0],\n",
    "                             \"GDP_USD_millions\": col[2].contents[0]}\n",
    "                df1 = pd.DataFrame(data_dict, index=[0])\n",
    "                df = pd.concat([df,df1], ignore_index=True)\n",
    "    return df"
   ]
  },
  {
   "cell_type": "markdown",
   "id": "a40ec01b",
   "metadata": {},
   "source": [
    "### Task 2: Transform information"
   ]
  },
  {
   "cell_type": "code",
   "execution_count": 50,
   "id": "ae12b648",
   "metadata": {},
   "outputs": [],
   "source": [
    "#Tạo hàm để chuyển đổi từ Milions sang bilions \n",
    "def transform(df):\n",
    "    # Chuyển các giá trị trong cột GDP USD Milions thành list, đễ dễ thao tác trên từng giá trị\n",
    "    GDP_list = df[\"GDP_USD_millions\"].tolist()\n",
    "    # For x in GDP list, thực hiện phân tách khỏi dấu , rồi gộp lại bằng join.\n",
    "    GDP_list = [float(\"\".join(x.split(','))) for x in GDP_list]\n",
    "    GDP_list = [np.round(x/1000,2) for x in GDP_list]\n",
    "    df[\"GDP_USD_millions\"] = GDP_list\n",
    "    df=df.rename(columns = {\"GDP_USD_millions\":\"GDP_USD_billions\"})\n",
    "    return df"
   ]
  },
  {
   "cell_type": "code",
   "execution_count": 62,
   "id": "2fa1fbe0",
   "metadata": {},
   "outputs": [],
   "source": [
    "def load_to_csv(df, csv_path):\n",
    "    df.to_csv(csv_path)"
   ]
  },
  {
   "cell_type": "markdown",
   "id": "945b8789",
   "metadata": {},
   "source": [
    "### Task 3: Loading information"
   ]
  },
  {
   "cell_type": "code",
   "execution_count": 51,
   "id": "70a68e10",
   "metadata": {},
   "outputs": [],
   "source": [
    "def load_to_db(df, sql_connection, table_name):\n",
    "    df.to_sql(table_name, sql_connection, if_exists='replace', index=False)"
   ]
  },
  {
   "cell_type": "markdown",
   "id": "3dc88d92",
   "metadata": {},
   "source": [
    "### Task 4: Querying the database table"
   ]
  },
  {
   "cell_type": "code",
   "execution_count": 52,
   "id": "60d531ac",
   "metadata": {},
   "outputs": [],
   "source": [
    "def run_query(query_statement, sql_connection):\n",
    "    print(query_statement)\n",
    "    query_output = pd.read_sql(query_statement, sql_connection)\n",
    "    print(query_output)"
   ]
  },
  {
   "cell_type": "markdown",
   "id": "df05748d",
   "metadata": {},
   "source": [
    "### Task 5: Logging progress"
   ]
  },
  {
   "cell_type": "code",
   "execution_count": 53,
   "id": "3db68276",
   "metadata": {},
   "outputs": [],
   "source": [
    "def log_progress(message): \n",
    "    timestamp_format = '%Y-%h-%d-%H:%M:%S' # Year-Monthname-Day-Hour-Minute-Second \n",
    "    now = datetime.now() # get current timestamp \n",
    "    timestamp = now.strftime(timestamp_format) \n",
    "    with open(\"./etl_project_log.txt\",\"a\") as f: \n",
    "        f.write(timestamp + ' : ' + message + '\\n')"
   ]
  },
  {
   "cell_type": "markdown",
   "id": "8e6e8900",
   "metadata": {},
   "source": [
    "## FINAL CALL"
   ]
  },
  {
   "cell_type": "code",
   "execution_count": 60,
   "id": "9e08c5ff",
   "metadata": {},
   "outputs": [],
   "source": [
    "url = 'https://web.archive.org/web/20230902185326/https://en.wikipedia.org/wiki/List_of_countries_by_GDP_%28nominal%29'\n",
    "table_attribs = [\"Country\", \"GDP_USD_millions\"]\n",
    "db_name = 'World_Economies.db'\n",
    "table_name = 'Countries_by_GDP'\n",
    "csv_path = './Countries_by_GDP.csv'"
   ]
  },
  {
   "cell_type": "code",
   "execution_count": 65,
   "id": "f3baad95",
   "metadata": {},
   "outputs": [
    {
     "name": "stdout",
     "output_type": "stream",
     "text": [
      "SELECT * from Countries_by_GDP WHERE GDP_USD_billions >= 100\n",
      "          Country  GDP_USD_billions\n",
      "0   United States          26854.60\n",
      "1           China          19373.59\n",
      "2           Japan           4409.74\n",
      "3         Germany           4308.85\n",
      "4           India           3736.88\n",
      "..            ...               ...\n",
      "64          Kenya            118.13\n",
      "65         Angola            117.88\n",
      "66           Oman            104.90\n",
      "67      Guatemala            102.31\n",
      "68       Bulgaria            100.64\n",
      "\n",
      "[69 rows x 2 columns]\n"
     ]
    }
   ],
   "source": [
    "# Task 0: Start Process\n",
    "log_progress('----------------------------------------------------------------')\n",
    "log_progress('Preliminaries complete. Initiating ETL process')\n",
    "\n",
    "#Task1\n",
    "df = extract(url, table_attribs)\n",
    "log_progress('Data extraction complete. Initiating Transformation process')\n",
    "\n",
    "#Task2\n",
    "    #2.1 transform\n",
    "df = transform(df)\n",
    "log_progress('Data transformation complete. Initiating loading process')\n",
    "    #2.2 Load to csv\n",
    "load_to_csv(df, csv_path)\n",
    "log_progress('Data saved to CSV file')\n",
    "\n",
    "#Task3: \n",
    "#3.1Connect to DB\n",
    "sql_connection = sqlite3.connect('World_Economies.db')\n",
    "log_progress('SQL Connection initiated.')\n",
    "\n",
    "#3.2 Load data into table\n",
    "load_to_db(df, sql_connection, table_name)\n",
    "log_progress('Data loaded to Database as table. Running the query')\n",
    "\n",
    "#3.3 Running Queries\n",
    "query_statement = f\"SELECT * from {table_name} WHERE GDP_USD_billions >= 100\"\n",
    "run_query(query_statement, sql_connection)\n",
    "\n",
    "#Task4; Completed\n",
    "log_progress('Process Complete.')\n",
    "sql_connection.close()"
   ]
  },
  {
   "cell_type": "code",
   "execution_count": null,
   "id": "00383b02",
   "metadata": {},
   "outputs": [],
   "source": []
  }
 ],
 "metadata": {
  "kernelspec": {
   "display_name": "Python 3 (ipykernel)",
   "language": "python",
   "name": "python3"
  },
  "language_info": {
   "codemirror_mode": {
    "name": "ipython",
    "version": 3
   },
   "file_extension": ".py",
   "mimetype": "text/x-python",
   "name": "python",
   "nbconvert_exporter": "python",
   "pygments_lexer": "ipython3",
   "version": "3.9.13"
  }
 },
 "nbformat": 4,
 "nbformat_minor": 5
}
